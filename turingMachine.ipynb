{
 "cells": [
  {
   "cell_type": "code",
   "execution_count": 3,
   "metadata": {},
   "outputs": [],
   "source": [
    "class Turing_Machine:     \n",
    "    def __init__(self, states, yes, no):\n",
    "        self.states=states\n",
    "        self.yes=yes\n",
    "        self.no=no\n",
    "        self.string=list(input('Enter number: '))\n",
    "        self.string.insert(0,'#')\n",
    "        self.string.append('#')\n",
    "        self.string.append('#')\n",
    "    \n",
    "    def check_alphabet(self):\n",
    "        for i in range(len(self.string)):\n",
    "            if not(self.string[i]=='a' or self.string[i]=='b' or self.string[i]=='c' or self.string[i]=='#'):\n",
    "                print('Illegal alphabet')\n",
    "                return False\n",
    "        return True\n",
    "    \n",
    "    def run(self):\n",
    "        self.state=0\n",
    "        i=0\n",
    "        while 1:\n",
    "            for j in range(0,len(self.states)):\n",
    "                if self.state==self.states[j][0] and self.string[i]==self.states[j][1]:\n",
    "                    self.string[i]=self.states[j][3]\n",
    "                    #move\n",
    "                    if self.states[j][4]=='+':\n",
    "                        i=i+1\n",
    "                    if self.states[j][4]=='-': \n",
    "                        i=i-1\n",
    "                    #change state\n",
    "                    self.state=self.states[j][2]\n",
    "            if self.state==self.yes or self.state==self.no:\n",
    "                break\n",
    "        return self.state\n",
    "    \n",
    "    def __str__(self):\n",
    "        return ''.join(map(str,self.string))"
   ]
  },
  {
   "cell_type": "code",
   "execution_count": 4,
   "metadata": {},
   "outputs": [
    {
     "name": "stdout",
     "output_type": "stream",
     "text": [
      "Enter number: ##cbabcbcbabcbcbcbabcbcbcbabcbcaacbcacbaab\n",
      "Tape:  ###cbabcbcbabcbcbcbabcbcbcbabcbcaacbcacbaab##\n",
      "a\n"
     ]
    }
   ],
   "source": [
    "#1.5 Г={a,b,c}. Если слово P четной длины (0,2,4...), то выдает ответ а, иначе пустое слово\n",
    "#    Пусть счетная головка стоит на первом символе и # - пустой символ/конец строки\n",
    "#Description of states\n",
    "states=[[0,'a',1,'a','0'], [0,'b',1,'b','0'],[0,'c',1,'c','0'],[0,'#',0,'#','+'],\n",
    "        [1,'a',2,'a','+'], [1,'b',2,'b','+'],[1,'c',2,'c','+'],[1,'#',3,'#','0'],\n",
    "        [2,'a',1,'a','+'],[2,'b',1,'b','+'],[2,'c',1,'c','+'],[2,'#',4,'#','0']]\n",
    "machine=Turing_Machine(states,3,4)\n",
    "print('Tape: ',machine)\n",
    "if machine.check_alphabet():\n",
    "    if machine.run()==3:\n",
    "        print('a')\n",
    "    else:\n",
    "        print('')"
   ]
  },
  {
   "cell_type": "code",
   "execution_count": 5,
   "metadata": {},
   "outputs": [
    {
     "name": "stdout",
     "output_type": "stream",
     "text": [
      "Enter number: ##cbabcbcbabcbcbcbabcbcbcbabcbcaacbcacbaab\n",
      "Tape:  ###cbabcbcbabcbcbcbabcbcbcbabcbcaacbcacbaab##\n",
      "New tape:  ###aaaaaaaaabbbbbbbbbbbbbbbbbcccccccccccccc##\n"
     ]
    }
   ],
   "source": [
    "#2.6 Г={a,b,c}. Преобразовать слово P так, чтобы сначала шли все символы а,\n",
    "#    затем - все символы b и в конце - все символы с.\n",
    "#    Пусть счетная головка стоит на первом символе и # - пустой символ/конец строки\n",
    "#Description of states\n",
    "states=[[0,'a',1,'a','0'],[0,'b',1,'b','0'],[0,'c',1,'c','0'],[0,'1',1,'1','0'],[0,'#',0,'#','+'],\n",
    "        [1,'a',1,'a','+'],[1,'b',2,'b','0'],[1,'c',6,'c','0'],[1,'1',1,'1','0'],[1,'#',10,'#','0'],\n",
    "        [2,'a',1,'a','0'],[2,'b',3,'1','+'],[2,'c',1,'c','0'],[2,'1',2,'1','0'],[2,'#',1,'#','+'],\n",
    "        [3,'a',4,'b','-'],[3,'b',3,'b','+'],[3,'c',3,'c','+'],[3,'1',3,'1','0'],[3,'#',5,'#','-'],\n",
    "        [4,'a',4,'a','0'],[4,'b',4,'b','-'],[4,'c',4,'c','-'],[4,'1',2,'a','-'],[4,'#',4,'#','0'],\n",
    "        [5,'a',5,'a','0'],[5,'b',5,'b','-'],[5,'c',5,'c','-'],[5,'1',1,'b','+'],[5,'#',5,'#','0'],\n",
    "        [6,'a',1,'a','0'],[6,'b',1,'b','0'],[6,'c',7,'1','+'],[6,'1',6,'1','0'],[6,'#',1,'#','+'],\n",
    "        [7,'a',7,'a','+'],[7,'b',8,'c','-'],[7,'c',7,'c','+'],[7,'1',7,'1','0'],[7,'#',9,'#','-'],\n",
    "        [8,'a',8,'a','-'],[8,'b',8,'b','0'],[8,'c',8,'c','-'],[8,'1',6,'b','-'],[8,'#',8,'#','0'],\n",
    "        [9,'a',9,'a','-'],[9,'b',9,'b','0'],[9,'c',9,'c','-'],[9,'1',1,'c','+'],[9,'#',9,'#','0']]\n",
    "machine=Turing_Machine(states,10,10)\n",
    "print('Tape: ',machine)\n",
    "if machine.check_alphabet():\n",
    "    machine.run()\n",
    "    print('New tape: ',machine)"
   ]
  }
 ],
 "metadata": {
  "kernelspec": {
   "display_name": "Python 3",
   "language": "python",
   "name": "python3"
  },
  "language_info": {
   "codemirror_mode": {
    "name": "ipython",
    "version": 3
   },
   "file_extension": ".py",
   "mimetype": "text/x-python",
   "name": "python",
   "nbconvert_exporter": "python",
   "pygments_lexer": "ipython3",
   "version": "3.6.8"
  }
 },
 "nbformat": 4,
 "nbformat_minor": 2
}
